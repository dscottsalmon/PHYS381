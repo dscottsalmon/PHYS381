{
 "cells": [
  {
   "cell_type": "code",
   "execution_count": 321,
   "id": "dcf6f33f-536f-4a44-868a-5a256d9930da",
   "metadata": {},
   "outputs": [
    {
     "data": {
      "image/png": "[encoded data removed]",
      "text/plain": [
       "<Figure size 432x288 with 1 Axes>"
      ]
     },
     "metadata": {
      "needs_background": "light"
     },
     "output_type": "display_data"
    }
   ],
   "source": [
    "import matplotlib.pyplot as plt\n",
    "import numpy as np\n",
    "import math\n",
    "\n",
    "#Parameters for the pendulum problem\n",
    "A = 1.07 #this is non-zero, which implies there is a driving force present\n",
    "k = 0.5 #this is non-zero, which implies damping i.e. friction\n",
    "g, L = 1.0, 1.0\n",
    "fi = 0.66667\n",
    "\n",
    "#A function of the Non-Linear Pendulum formula \n",
    "def nonlinear_f(theta, omega, time):\n",
    "    \"This is for the non-linear pendulum case.\"\n",
    "    force = (-g/L) * math.sin(theta) - k * omega + A*math.cos(fi*time)  #damping and driven force\n",
    "    return force\n",
    "\n",
    "#setting initial conditions\n",
    "Q = 0.50 #used 0.50 for A = 1.07, used 0.0 for A = 1.47, this is important for shifting theta later\n",
    "transient = 6500 #used for limited what omega and theta values are recorded later to get rid of \"tail\" from transient motion\n",
    "theta = 3.0 \n",
    "omega = 0.0\n",
    "t = 0.0\n",
    "dt = 0.01\n",
    "\n",
    "#sets lists to empty\n",
    "list_theta = []\n",
    "list_omega = []\n",
    "list_time = []\n",
    "\n",
    "#Runge-Kutta Algorithm\n",
    "for _ in range(100000):\n",
    "    k1a = dt * omega\n",
    "    k1b = dt * nonlinear_f(theta, omega, t)\n",
    "    k2a = dt * (omega + k1b/2)\n",
    "    k2b = dt * nonlinear_f(theta + k1a/2, omega + k1b/2, t + dt/2)\n",
    "    k3a = dt * (omega + k2b/2)\n",
    "    k3b = dt * nonlinear_f(theta + k2a/2, omega + k2b/2, t + dt/2)\n",
    "    k4a = dt * (omega + k3b)\n",
    "    k4b = dt * nonlinear_f(theta + k3a, omega + k3b, t + dt)\n",
    "    theta = theta + (k1a + 2 * k2a + 2 * k3a + k4a) / 6\n",
    "    omega = omega + (k1b + 2 * k2b + 2 * k3b + k4b) / 6\n",
    "    \n",
    "    t = t + dt #evolve time step\n",
    "    list_time.append(t) #add time entry to time list\n",
    "    \n",
    "    #this all corrects theta if it is greater than pi+Q or lesser than -pi+Q\n",
    "    theta %= 2*math.pi\n",
    "    if theta >= (math.pi + Q):\n",
    "        theta = theta - (2*math.pi)\n",
    "    if theta <= (-math.pi + Q):\n",
    "        theta = theta + (2*math.pi)\n",
    "    \n",
    "    if (len(list_time) > transient): #this checks if the time list has transient entries\n",
    "        if t > list_time[transient]: #if it does, then it checks the transient'th entry, if t is greater then proceed       \n",
    "            list_theta.append(theta) #add theta and omega to their respective lists\n",
    "            list_omega.append(omega)\n",
    "#i know the nested if statements are somewhat redundant, but i wanted to match the manuals outline exactly with the t>t[transient] \n",
    "\n",
    "plt.figure()\n",
    "plt.scatter(list_theta, list_omega, s=1) #plots nonlinear theta plot and omega plot from runge-kutta method\n",
    "plt.title(\"θ(t) vs. ω(t) for a damped-driven non-linear pendulum.\\nParameters: A = %0.2f, k = %0.1f, Φ = %0.5f\" %(A,k,fi))\n",
    "plt.xlabel('θ (rad)')\n",
    "plt.ylabel('ω (rad/s)')\n",
    "plt.grid(False)"
   ]
  },
  {
   "cell_type": "code",
   "execution_count": null,
   "id": "831d8005-6e7e-4ce8-b46f-e1876ef1c819",
   "metadata": {},
   "outputs": [],
   "source": []
  }
 ],
 "metadata": {
  "kernelspec": {
   "display_name": "Python 3 (ipykernel)",
   "language": "python",
   "name": "python3"
  },
  "language_info": {
   "codemirror_mode": {
    "name": "ipython",
    "version": 3
   },
   "file_extension": ".py",
   "mimetype": "text/x-python",
   "name": "python",
   "nbconvert_exporter": "python",
   "pygments_lexer": "ipython3",
   "version": "3.9.12"
  }
 },
 "nbformat": 4,
 "nbformat_minor": 5
}
