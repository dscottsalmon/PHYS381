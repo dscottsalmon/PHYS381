{
 "cells": [
  {
   "cell_type": "code",
   "execution_count": 1,
   "id": "f82af9ff-c2f7-47ee-b7fe-0379f6fd0cb3",
   "metadata": {},
   "outputs": [
    {
     "name": "stdout",
     "output_type": "stream",
     "text": [
      "1.7182827819248234\n"
     ]
    }
   ],
   "source": [
    "import matplotlib.pyplot as plt\n",
    "import numpy as np\n",
    "import math\n",
    "\n",
    "#I rewrote the simpsons function code using the demo in class so I could understand what was going on mathematically.\n",
    "#input a function, bounds a and b, and an integer n that determines how many steps will occur\n",
    "def Simpsons(function, a, b, n):\n",
    "    \n",
    "    h = (b-a) / n #calculates the \"length\" of each step\n",
    "    first_term = function(a) #calculates the first term\n",
    "    last_term = function(b) #calculates the final term\n",
    "    total = 0 #initializes 0\n",
    "    \n",
    "    j = 1\n",
    "    while(j<n): #while the counter is less then the predetermined amount of steps that will occur, do this loop\n",
    "        even = 0 #initialzes even and odd variables\n",
    "        odd = 0\n",
    "        x = a + (j*h) #calculates x\n",
    "        if (j%2) == 0: #if j is even, x2, if odd, x4\n",
    "            total = total + (function(x) * 2)\n",
    "        else:\n",
    "            total = total + (function(x) * 4)\n",
    "        j = j + 1 #iterates counter\n",
    "        \n",
    "    total = (h/3)*(total+first_term+last_term) #calculates the final answer via simpsons rule formula\n",
    "    return total\n",
    "\n",
    "def f(x): #e^x function\n",
    "    return math.e**(x)\n",
    "\n",
    "n = float(input(\"Input value for n:\")) #user input\n",
    "a = 0\n",
    "b = 1\n",
    "\n",
    "Integral = Simpsons(f,a,b,n) #calculates integral\n",
    "print(Integral) #prints integral"
   ]
  },
  {
   "cell_type": "code",
   "execution_count": null,
   "id": "a8789b8a-8909-4ba3-b64b-deec1a9448e9",
   "metadata": {},
   "outputs": [],
   "source": []
  }
 ],
 "metadata": {
  "kernelspec": {
   "display_name": "Python 3 (ipykernel)",
   "language": "python",
   "name": "python3"
  },
  "language_info": {
   "codemirror_mode": {
    "name": "ipython",
    "version": 3
   },
   "file_extension": ".py",
   "mimetype": "text/x-python",
   "name": "python",
   "nbconvert_exporter": "python",
   "pygments_lexer": "ipython3",
   "version": "3.9.13"
  }
 },
 "nbformat": 4,
 "nbformat_minor": 5
}
